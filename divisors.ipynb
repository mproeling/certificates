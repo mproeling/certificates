{
 "cells": [
  {
   "cell_type": "code",
   "execution_count": 1,
   "id": "a2005925",
   "metadata": {},
   "outputs": [],
   "source": [
    "import math"
   ]
  },
  {
   "cell_type": "code",
   "execution_count": 2,
   "id": "d44bdd3f",
   "metadata": {},
   "outputs": [],
   "source": [
    "def find_divisors(n):\n",
    "    divisors = []\n",
    "    # Iterate from 1 to sqrt(n) (inclusive)\n",
    "    for i in range(1, int(math.sqrt(n)) + 1):\n",
    "        if n % i == 0:  # If i is a divisor\n",
    "            divisors.append(i)\n",
    "            if i != n // i:  # Avoid adding the square root twice if n is a perfect square\n",
    "                divisors.append(n // i)\n",
    "    return sorted(divisors)"
   ]
  },
  {
   "cell_type": "code",
   "execution_count": 5,
   "id": "8010162a",
   "metadata": {},
   "outputs": [
    {
     "data": {
      "text/plain": [
       "[1,\n",
       " 2,\n",
       " 4,\n",
       " 5,\n",
       " 8,\n",
       " 10,\n",
       " 16,\n",
       " 20,\n",
       " 25,\n",
       " 32,\n",
       " 40,\n",
       " 50,\n",
       " 80,\n",
       " 100,\n",
       " 125,\n",
       " 160,\n",
       " 200,\n",
       " 250,\n",
       " 400,\n",
       " 500,\n",
       " 625,\n",
       " 800,\n",
       " 1000,\n",
       " 1250,\n",
       " 2000,\n",
       " 2500,\n",
       " 4000,\n",
       " 5000,\n",
       " 10000,\n",
       " 20000]"
      ]
     },
     "execution_count": 5,
     "metadata": {},
     "output_type": "execute_result"
    }
   ],
   "source": [
    "# Example: Find divisors of 200 using the efficient method\n",
    "efficient_divisors = find_divisors(20000)\n",
    "efficient_divisors"
   ]
  },
  {
   "cell_type": "code",
   "execution_count": 8,
   "id": "ee2f09d2",
   "metadata": {},
   "outputs": [],
   "source": [
    "# Finding all divisors of 200\n",
    "number = 20000000\n",
    "divisors = [i for i in range(1, number + 1) if number % i == 0]\n",
    "divisors"
   ]
  },
  {
   "cell_type": "code",
   "execution_count": null,
   "id": "1e55b510",
   "metadata": {},
   "outputs": [],
   "source": []
  }
 ],
 "metadata": {
  "kernelspec": {
   "display_name": "Python 3 (ipykernel)",
   "language": "python",
   "name": "python3"
  },
  "language_info": {
   "codemirror_mode": {
    "name": "ipython",
    "version": 3
   },
   "file_extension": ".py",
   "mimetype": "text/x-python",
   "name": "python",
   "nbconvert_exporter": "python",
   "pygments_lexer": "ipython3",
   "version": "3.11.5"
  }
 },
 "nbformat": 4,
 "nbformat_minor": 5
}
