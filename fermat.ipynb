{
 "cells": [
  {
   "cell_type": "code",
   "execution_count": 1,
   "id": "1758058c",
   "metadata": {},
   "outputs": [],
   "source": [
    "n = 188198812920607963838697239461650439807163563379417382700763356422988859715234665485319060606504743045317388011303396716199692321205734031879550656996221305168759307650257059"
   ]
  },
  {
   "cell_type": "code",
   "execution_count": 7,
   "id": "76bda02f",
   "metadata": {},
   "outputs": [
    {
     "data": {
      "text/plain": [
       "4.338188710978442e+86"
      ]
     },
     "execution_count": 7,
     "metadata": {},
     "output_type": "execute_result"
    }
   ],
   "source": [
    "math.sqrt(n)"
   ]
  },
  {
   "cell_type": "code",
   "execution_count": 41,
   "id": "a28e99fa",
   "metadata": {},
   "outputs": [],
   "source": [
    "import math\n",
    "import numpy as np\n",
    "\n",
    "def is_square(i: int) -> bool:\n",
    "    return i == math.isqrt(i) ** 2"
   ]
  },
  {
   "cell_type": "code",
   "execution_count": 54,
   "id": "e86f58b0",
   "metadata": {},
   "outputs": [],
   "source": [
    "n = 2059"
   ]
  },
  {
   "cell_type": "code",
   "execution_count": 56,
   "id": "4137491b",
   "metadata": {},
   "outputs": [
    {
     "data": {
      "text/plain": [
       "46.0"
      ]
     },
     "execution_count": 56,
     "metadata": {},
     "output_type": "execute_result"
    }
   ],
   "source": [
    "a=np.ceil(math.sqrt(n))\n",
    "a"
   ]
  },
  {
   "cell_type": "code",
   "execution_count": 59,
   "id": "e722827d",
   "metadata": {},
   "outputs": [
    {
     "data": {
      "text/plain": [
       "57"
      ]
     },
     "execution_count": 59,
     "metadata": {},
     "output_type": "execute_result"
    }
   ],
   "source": [
    "b2=int(a**2-n)\n",
    "b2"
   ]
  },
  {
   "cell_type": "code",
   "execution_count": 60,
   "id": "119802fc",
   "metadata": {},
   "outputs": [
    {
     "data": {
      "text/plain": [
       "False"
      ]
     },
     "execution_count": 60,
     "metadata": {},
     "output_type": "execute_result"
    }
   ],
   "source": [
    "is_square(b2)"
   ]
  },
  {
   "cell_type": "code",
   "execution_count": 127,
   "id": "8106bb70",
   "metadata": {},
   "outputs": [
    {
     "name": "stdout",
     "output_type": "stream",
     "text": [
      "10276086708 9737581748\n"
     ]
    }
   ],
   "source": [
    "#n = 46134521\n",
    "# n = 1001411*9999973\n",
    "n = 1000322293 * 100031994757\n",
    "a=np.ceil(math.sqrt(n))\n",
    "\n",
    "while n != 1:\n",
    "    b2=int(a**2-n)\n",
    "    if(math.floor(math.sqrt(b2))==math.sqrt(b2)):\n",
    "        b=int(math.sqrt(b2))\n",
    "        x = int(a + b)\n",
    "        y = int(a - b)\n",
    "        print(x, y)\n",
    "        break\n",
    "    else:\n",
    "        a = a+1"
   ]
  },
  {
   "cell_type": "code",
   "execution_count": 128,
   "id": "0a3b71b7",
   "metadata": {},
   "outputs": [
    {
     "data": {
      "text/plain": [
       "100064234368686217801"
      ]
     },
     "execution_count": 128,
     "metadata": {},
     "output_type": "execute_result"
    }
   ],
   "source": [
    "n"
   ]
  },
  {
   "cell_type": "code",
   "execution_count": 130,
   "id": "2bc51fcc",
   "metadata": {},
   "outputs": [
    {
     "data": {
      "text/plain": [
       "72496897986150400"
      ]
     },
     "execution_count": 130,
     "metadata": {},
     "output_type": "execute_result"
    }
   ],
   "source": [
    "b2"
   ]
  },
  {
   "cell_type": "code",
   "execution_count": 133,
   "id": "b915adcb",
   "metadata": {},
   "outputs": [
    {
     "data": {
      "text/plain": [
       "True"
      ]
     },
     "execution_count": 133,
     "metadata": {},
     "output_type": "execute_result"
    }
   ],
   "source": [
    "is_square(b2)"
   ]
  },
  {
   "cell_type": "code",
   "execution_count": null,
   "id": "89a6c970",
   "metadata": {},
   "outputs": [],
   "source": []
  }
 ],
 "metadata": {
  "kernelspec": {
   "display_name": "Python 3 (ipykernel)",
   "language": "python",
   "name": "python3"
  },
  "language_info": {
   "codemirror_mode": {
    "name": "ipython",
    "version": 3
   },
   "file_extension": ".py",
   "mimetype": "text/x-python",
   "name": "python",
   "nbconvert_exporter": "python",
   "pygments_lexer": "ipython3",
   "version": "3.11.5"
  }
 },
 "nbformat": 4,
 "nbformat_minor": 5
}
